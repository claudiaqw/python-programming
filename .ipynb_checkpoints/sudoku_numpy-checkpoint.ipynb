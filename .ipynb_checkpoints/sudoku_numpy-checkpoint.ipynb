{
 "cells": [
  {
   "cell_type": "markdown",
   "metadata": {},
   "source": [
    "# NumPy – Resolver Sudokus"
   ]
  },
  {
   "cell_type": "code",
   "execution_count": null,
   "metadata": {},
   "outputs": [],
   "source": [
    "import numpy as np"
   ]
  },
  {
   "cell_type": "markdown",
   "metadata": {},
   "source": [
    "Escribe una función que reciba como parámetro el nombre de un fichero que contendrá un Sudoku completo (en forma de matriz), y devuelva si está bien solucionado o no. \n",
    "\n",
    "A lo largo de la función, deberás ir comprobando los distintos requisitos que debe cumplir la solución de un Sudoku, pero además, también debes hacer comprobaciones más básicas, como que los números de cada celda están en el rango y tipo correcto o que la dimensión de la matriz es la adecuada para un Sudoku. La función debe devolver un mensaje diciendo que la solución es correcta o, en caso contrario, el listado completo de motivos por el que la solución es incorrecta.\n",
    "\n",
    "Puedes visitar esta página para repasar las reglas del Sudoku: http://www.sudokumania.com.ar/metodos/reglas-del-sudoku\n"
   ]
  },
  {
   "cell_type": "markdown",
   "metadata": {},
   "source": [
    "Comprobar que:\n",
    "\n",
    "1. en las 9 regiones cuadradas no puede haber números repetidos\n",
    "2. en una misma fila no puede haber números repetidos.\n",
    "3. en una misma columna no puede haber números repetidos."
   ]
  },
  {
   "cell_type": "code",
   "execution_count": null,
   "metadata": {},
   "outputs": [],
   "source": [
    "def get_sudoku_matrix(filename):\n",
    "    file = np.loadtxt(filename, 'r+')\n",
    "    content = file.read()"
   ]
  },
  {
   "cell_type": "code",
   "execution_count": null,
   "metadata": {},
   "outputs": [],
   "source": [
    "def write_sudoku_matrix(filename, matrix):\n",
    "    np.savetxt(filename, matrix)"
   ]
  },
  {
   "cell_type": "code",
   "execution_count": null,
   "metadata": {},
   "outputs": [],
   "source": [
    "def check_sudoku(matrix):\n",
    "    n = matrix.shape[0]\n",
    "    step, a = int(np.sqrt(n)), np.array([i+1 for i in range(n)])\n",
    "    result = True\n",
    "    \n",
    "    # row checher\n",
    "    for i in range(n):\n",
    "        if not np.alltrue(np.sort(matrix[i,:]) == a):\n",
    "            result = False\n",
    "            print(\"La condición no se cumple en la fila\", i)\n",
    "    \n",
    "    # column checker\n",
    "    for i in range(n):\n",
    "        if not np.alltrue(np.sort(matrix[:,i]) == a):\n",
    "            result = False\n",
    "            print(\"La condición no se cumple en la columna\", i)\n",
    "    \n",
    "    #region checker\n",
    "    for i in range(0, n, step):\n",
    "        for j in range(0, n, step):          \n",
    "            print(i, j)\n",
    "            print(m[i:i+step, j:j+step])\n",
    "            if not np.alltrue(np.sort(matrix[:,i]) == a):\n",
    "                result = False\n",
    "                print(\"La condición no se cumple en la región\", i, i+3, j, j+3)\n",
    "    return result"
   ]
  },
  {
   "cell_type": "code",
   "execution_count": null,
   "metadata": {},
   "outputs": [],
   "source": [
    "m_ = [[1,2,3,4], [5,6,7,8], [9,10,11,12], [12,13,14,15]]\n",
    "m = np.array(m_)\n",
    "m"
   ]
  },
  {
   "cell_type": "code",
   "execution_count": null,
   "metadata": {},
   "outputs": [],
   "source": [
    "check_sudoku(m)"
   ]
  }
 ],
 "metadata": {
  "kernelspec": {
   "display_name": "Python 3",
   "language": "python",
   "name": "python3"
  },
  "language_info": {
   "codemirror_mode": {
    "name": "ipython",
    "version": 3
   },
   "file_extension": ".py",
   "mimetype": "text/x-python",
   "name": "python",
   "nbconvert_exporter": "python",
   "pygments_lexer": "ipython3",
   "version": "3.8.3"
  }
 },
 "nbformat": 4,
 "nbformat_minor": 4
}
