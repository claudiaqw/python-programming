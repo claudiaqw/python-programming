{
 "cells": [
  {
   "cell_type": "markdown",
   "metadata": {},
   "source": [
    "# Python básico – Ejercicios cortos"
   ]
  },
  {
   "cell_type": "markdown",
   "metadata": {},
   "source": [
    "## Ejercicio 1"
   ]
  },
  {
   "cell_type": "markdown",
   "metadata": {},
   "source": [
    "1. Escribe un programa que solicite al usuario una lista de números positivos y/o\n",
    "negativos y, utilizando una comprensión de lista, genere otra con los números\n",
    "de la lista original que cumplen (A LA VEZ):\n",
    "    * Son positivos.\n",
    "    * Son divisibles entre 7.\n",
    "    * No son múltiplos de 3"
   ]
  },
  {
   "cell_type": "markdown",
   "metadata": {},
   "source": [
    "### Solución"
   ]
  },
  {
   "cell_type": "markdown",
   "metadata": {},
   "source": [
    "Para resolver este ejercicio es necesario pedir al usuario que introduzca una lista de números separados por coma y luego, convertir la cadena de caracteres resultante en una lista de números de Python.\n",
    "\n",
    "Debemos comprobar que cada número *n* de la lista cumple las siguientes condiciones:\n",
    "* n es positivo cuando es mayor que 0 (n > 0)\n",
    "* n es divisible entre 7 cuando el resto de dividir n entre 7 es 0 (n % 7 == 0)\n",
    "* n no es múltiplo de 3 cuando el resto de dividir n entre 3 es diferente de 0 (n % 3 != 0)"
   ]
  },
  {
   "cell_type": "code",
   "execution_count": 1,
   "metadata": {},
   "outputs": [
    {
     "name": "stdout",
     "output_type": "stream",
     "text": [
      "Introduzca una lista de números positivos y/o negativos separados por coma: 1,2,-7,49,28\n"
     ]
    },
    {
     "data": {
      "text/plain": [
       "[49.0, 28.0]"
      ]
     },
     "execution_count": 1,
     "metadata": {},
     "output_type": "execute_result"
    }
   ],
   "source": [
    "numbers = input(\"Introduzca una lista de números positivos y/o negativos separados por coma: \").split(',')\n",
    "numbers = [float(n) for n in numbers if float(n) > 0 and float(n) % 7 == 0 and float(n) % 3 != 0]\n",
    "numbers"
   ]
  },
  {
   "cell_type": "markdown",
   "metadata": {},
   "source": [
    "## Ejercicio 2"
   ]
  },
  {
   "cell_type": "markdown",
   "metadata": {},
   "source": [
    "2. Escribe una función llamada **comprimir** que reciba como parámetro una lista\n",
    "de elementos y devuelva como salida una lista de tuplas de la forma (elemento,\n",
    "número de repeticiones consecutivas). Por ejemplo: \n",
    "\n",
    "        comprimir([1, 1, 1, 2, 2, 3, 4, 4, 1, 1, 1]) = [(1,3), (2, 2), (3, 1), (4, 2), (1, 3)]\n",
    "        \n",
    "**IMPORTANTE:**  La lista no tiene por qué contener sólo números.\n",
    "\n",
    "    \n",
    "\n"
   ]
  },
  {
   "cell_type": "markdown",
   "metadata": {},
   "source": [
    "### Solución"
   ]
  },
  {
   "cell_type": "markdown",
   "metadata": {},
   "source": [
    "El algoritmo **comprimir** consta de 4 variables fundamentales para entender su funcionamiento:\n",
    "\n",
    "* *l*: lista de elementos, parámetro de entrada de la función.\n",
    "* *current_val*: variable que guarda el último valor visto en la lista *l*.\n",
    "* *current_count*: variable que almacena la cantidad de veces consecutivas que ha aparecido *current_val* en *l*.\n",
    "* *result*: lista resultante, salida de la función.\n",
    "\n",
    "En el algoritmo se recorre la lista *l* guardando los valores vistos y la cantidad de veces que han aparecido consecutivamente en las variables *current_val* y *current_count*. Siempre que se encuentra un valor diferente al que está almacenado en *current_val*, se almacena la tupla (*current_val*,*current_count*) y se inicializan nuevamente. De manera que en todo momento *current_val* contiene el elemento que se está analizando y *current_count* la cantidad de veces que ha aparecido consecutivamente hasta ese momento."
   ]
  },
  {
   "cell_type": "code",
   "execution_count": 2,
   "metadata": {},
   "outputs": [],
   "source": [
    "def comprimir(l):\n",
    "    current_val, current_count, result = None, 0, []\n",
    "    \n",
    "    for item in l:\n",
    "        if item == current_val:\n",
    "            current_count += 1\n",
    "        else:\n",
    "            if(current_val is not None):\n",
    "                result.append((current_val, current_count))\n",
    "            current_val, current_count = item, 1\n",
    "    result.append((current_val, current_count))\n",
    "    return result"
   ]
  },
  {
   "cell_type": "code",
   "execution_count": 3,
   "metadata": {},
   "outputs": [
    {
     "data": {
      "text/plain": [
       "[(1, 3), (2, 2), (3, 1), (4, 2), (1, 3)]"
      ]
     },
     "execution_count": 3,
     "metadata": {},
     "output_type": "execute_result"
    }
   ],
   "source": [
    "comprimir([1, 1, 1, 2, 2, 3, 4, 4, 1, 1, 1])"
   ]
  },
  {
   "cell_type": "code",
   "execution_count": 4,
   "metadata": {},
   "outputs": [
    {
     "data": {
      "text/plain": [
       "[(1, 1), (2, 3), (3, 3), ('a', 2), (100, 1)]"
      ]
     },
     "execution_count": 4,
     "metadata": {},
     "output_type": "execute_result"
    }
   ],
   "source": [
    "comprimir([1, 2, 2, 2, 3, 3, 3, \"a\", \"a\", 100])"
   ]
  },
  {
   "cell_type": "markdown",
   "metadata": {},
   "source": [
    "## Ejercicio 3"
   ]
  },
  {
   "cell_type": "markdown",
   "metadata": {},
   "source": [
    "3. Crea una función llamada *dame_personas* que reciba como parámetros una cadena de caracteres con el nombre de una ciudad y un diccionario de la forma \n",
    "        {<persona1>: <ciudad1>, <persona2>:<ciudad2>, …} \n",
    "y devuelva una lista de personas que pertenecen a esa ciudad ordenado alfabéticamente. Por ejemplo:\n",
    "        dame_personas(‘Alicante’, {‘Pedro’: ‘Alicante’, ‘Juan’: ‘Alicante’}) = [‘Juan’, ‘Pedro]"
   ]
  },
  {
   "cell_type": "markdown",
   "metadata": {},
   "source": [
    "### Solución"
   ]
  },
  {
   "cell_type": "markdown",
   "metadata": {},
   "source": [
    "Dada una ciudad *city* y un diccionario *person_city*, la solución consiste en comprobar por todos los pares *(person,city)* del diccionario qué valor coincide con *city* y almacenar los nombre de las personas en una lista usando compresión de lista. Luego, la lista se ordena alfabéticamente. "
   ]
  },
  {
   "cell_type": "code",
   "execution_count": 5,
   "metadata": {},
   "outputs": [],
   "source": [
    "def dame_personas(city, person_city):\n",
    "    r = [p for p,c in person_city.items() if c == city]\n",
    "    r.sort()\n",
    "    return r"
   ]
  },
  {
   "cell_type": "code",
   "execution_count": 6,
   "metadata": {},
   "outputs": [
    {
     "data": {
      "text/plain": [
       "['Juan', 'Pedro']"
      ]
     },
     "execution_count": 6,
     "metadata": {},
     "output_type": "execute_result"
    }
   ],
   "source": [
    "dame_personas('Alicante', {'Pedro': 'Alicante', 'Juan': 'Alicante'})"
   ]
  },
  {
   "cell_type": "code",
   "execution_count": 7,
   "metadata": {},
   "outputs": [
    {
     "data": {
      "text/plain": [
       "['Claudia', 'Lala']"
      ]
     },
     "execution_count": 7,
     "metadata": {},
     "output_type": "execute_result"
    }
   ],
   "source": [
    "dame_personas('La Habana', {'Claudia': 'La Habana', 'Lala': 'La Habana', 'Lily':'Holguín'})"
   ]
  },
  {
   "cell_type": "markdown",
   "metadata": {},
   "source": [
    "## Ejercicio 4"
   ]
  },
  {
   "cell_type": "markdown",
   "metadata": {},
   "source": [
    "4. Escribe una función *dame_palabras_veces* que reciba la ruta de un fichero de texto y un número entero y devuelva el listado de palabras del fichero cuya frecuencia en el mismo es igual al número entero dado. Asume que las palabras del fichero siempre están separadas por espacios y haz que se ignore la diferencia entre mayúsculas y minúsculas. Por ejemplo:\n",
    "\n",
    "        Fichero <dummy.txt>\n",
    "        Esto es una prueba Prueba para validar validar, que funciona funciona.\n",
    "\n",
    "        dame_palabra_veces(‘dummy.txt’, 2) = [‘prueba’, ‘validar’, ‘funciona’]\n",
    "        \n",
    "**IMPORTANTE:** Se debe incluir control de errores suficiente para chequear que el fichero indicado existe."
   ]
  },
  {
   "cell_type": "markdown",
   "metadata": {},
   "source": [
    "### Solución"
   ]
  },
  {
   "cell_type": "markdown",
   "metadata": {},
   "source": [
    "Para dar solución al ejercicio se implementaron 2 funciones auxiliares y la función requerida **dame_palabras_veces**. La función auxiliar **read_file** se encarga de, dado un fichero, leer y devolver su contenido, siempre que dicho fichero exista en la ruta especificada. Asimismo, la función **remove_punctuation** se encarga de eliminar los signos de puntuación presentes en el texto, de lo contrario al separar por espacios, los signos de puntuación formarían parte de las palabras y no se reconocería la cantidad de apariciones real de una palabra en el texto. Para implementar esta funcionalidad se tomó como referencia el siguiente post: https://stackoverflow.com/questions/265960/best-way-to-strip-punctuation-from-a-string \n",
    "\n",
    "Por otra parte, la función **dame_palabras_veces** luego de obtener el contenido del fichero con los signos de puntuación eliminados, obtiene la lista se palabras separando el texto por espacios. El conteo se realiza iterando sobre la lista y llevando la cantidad de ocurrencias de cada palabra en el diccionario *counter*. Posteriormente, utilizando compresión de lista selecciona las palabras cuya ocurrencia en el texto es igual a *n*."
   ]
  },
  {
   "cell_type": "code",
   "execution_count": 8,
   "metadata": {},
   "outputs": [],
   "source": [
    "def read_file(filepath):\n",
    "    try:\n",
    "        file = open(filepath, \"r\")\n",
    "        content = file.read()\n",
    "        return content\n",
    "    except FileNotFoundError:\n",
    "        print(\"No such file or directory\")        \n",
    "    except:\n",
    "        print(\"Something went wrong while reading the file\")\n",
    "    return \"\"\n",
    "\n",
    "def dame_palabras_veces(filepath, n):\n",
    "    content = read_file(filepath)\n",
    "    content = remove_punctuation(content).split()\n",
    "    \n",
    "    counter = {}\n",
    "    for w in content:\n",
    "        w = w.lower()\n",
    "        if(w in counter):\n",
    "            counter[w] += 1\n",
    "        else:\n",
    "            counter[w] = 1\n",
    "    return [w for w,c in counter.items() if c == n]    \n",
    "\n",
    "def remove_punctuation(text):\n",
    "    import string\n",
    "    table_ = str.maketrans('', '', string.punctuation)\n",
    "    return text.translate(table_)"
   ]
  },
  {
   "cell_type": "code",
   "execution_count": 9,
   "metadata": {},
   "outputs": [
    {
     "data": {
      "text/plain": [
       "['prueba', 'validar', 'funciona']"
      ]
     },
     "execution_count": 9,
     "metadata": {},
     "output_type": "execute_result"
    }
   ],
   "source": [
    "dame_palabras_veces('data/dummy.txt', 2)"
   ]
  },
  {
   "cell_type": "code",
   "execution_count": 10,
   "metadata": {},
   "outputs": [
    {
     "name": "stdout",
     "output_type": "stream",
     "text": [
      "No such file or directory\n"
     ]
    }
   ],
   "source": [
    "file = dame_palabras_veces(\"filepath.txt\",2)"
   ]
  }
 ],
 "metadata": {
  "kernelspec": {
   "display_name": "Python 3",
   "language": "python",
   "name": "python3"
  },
  "language_info": {
   "codemirror_mode": {
    "name": "ipython",
    "version": 3
   },
   "file_extension": ".py",
   "mimetype": "text/x-python",
   "name": "python",
   "nbconvert_exporter": "python",
   "pygments_lexer": "ipython3",
   "version": "3.8.3"
  }
 },
 "nbformat": 4,
 "nbformat_minor": 4
}
