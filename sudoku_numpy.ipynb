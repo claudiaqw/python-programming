{
 "cells": [
  {
   "cell_type": "markdown",
   "metadata": {},
   "source": [
    "# NumPy – Resolver Sudokus"
   ]
  },
  {
   "cell_type": "code",
   "execution_count": 1,
   "metadata": {},
   "outputs": [],
   "source": [
    "import numpy as np"
   ]
  },
  {
   "cell_type": "markdown",
   "metadata": {},
   "source": [
    "Escribe una función que reciba como parámetro el nombre de un fichero que contendrá un Sudoku completo (en forma de matriz), y devuelva si está bien solucionado o no. \n",
    "\n",
    "A lo largo de la función, deberás ir comprobando los distintos requisitos que debe cumplir la solución de un Sudoku, pero además, también debes hacer comprobaciones más básicas, como que los números de cada celda están en el rango y tipo correcto o que la dimensión de la matriz es la adecuada para un Sudoku. La función debe devolver un mensaje diciendo que la solución es correcta o, en caso contrario, el listado completo de motivos por el que la solución es incorrecta.\n",
    "\n",
    "Puedes visitar esta página para repasar las reglas del Sudoku: http://www.sudokumania.com.ar/metodos/reglas-del-sudoku\n"
   ]
  },
  {
   "cell_type": "markdown",
   "metadata": {},
   "source": [
    "Comprobar que:\n",
    "\n",
    "1. en las 9 regiones cuadradas no puede haber números repetidos\n",
    "2. en una misma fila no puede haber números repetidos.\n",
    "3. en una misma columna no puede haber números repetidos."
   ]
  },
  {
   "cell_type": "code",
   "execution_count": 2,
   "metadata": {},
   "outputs": [],
   "source": [
    "def get_sudoku_matrix(filename):\n",
    "    return np.loadtxt(filename, dtype=int, delimiter=',')"
   ]
  },
  {
   "cell_type": "code",
   "execution_count": 3,
   "metadata": {},
   "outputs": [],
   "source": [
    "def write_sudoku_matrix(filename, matrix):\n",
    "    np.savetxt(filename, matrix)"
   ]
  },
  {
   "cell_type": "code",
   "execution_count": 4,
   "metadata": {},
   "outputs": [],
   "source": [
    "def check_sudoku(matrix):\n",
    "    n = matrix.shape[0]\n",
    "    step, a = int(np.sqrt(n)), np.array([i+1 for i in range(n)])\n",
    "    result = []\n",
    "    \n",
    "    # row checher\n",
    "    for i in range(n):\n",
    "        if not np.alltrue(np.sort(matrix[i,:]) == a):\n",
    "            result.append('La condición no se cumple en la fila {}'.format(i))\n",
    "    \n",
    "    # column checker\n",
    "    for i in range(n):\n",
    "        if not np.alltrue(np.sort(matrix[:,i]) == a):\n",
    "            result.append('La condición no se cumple en la columna {}'.format(i))\n",
    "    \n",
    "    #region checker\n",
    "    for i in range(0, n, step):\n",
    "        for j in range(0, n, step):          \n",
    "            print(i, j)\n",
    "            print(m[i:i+step, j:j+step])\n",
    "            if not np.alltrue(np.sort(matrix[:,i]) == a):\n",
    "                result.append('La condición no se cumple en la región {},{} - {},{}'.format(i, i+3, j, j+3))\n",
    "    return result"
   ]
  },
  {
   "cell_type": "code",
   "execution_count": 46,
   "metadata": {},
   "outputs": [
    {
     "data": {
      "text/plain": [
       "array([[5, 3, 4, 6, 7, 8, 9, 1, 2],\n",
       "       [6, 7, 2, 1, 9, 5, 3, 4, 8],\n",
       "       [1, 9, 8, 3, 4, 2, 5, 6, 7],\n",
       "       [8, 5, 9, 7, 6, 1, 4, 2, 3],\n",
       "       [4, 2, 6, 8, 5, 3, 7, 9, 1],\n",
       "       [7, 1, 3, 9, 2, 4, 8, 5, 6],\n",
       "       [9, 6, 1, 5, 3, 7, 2, 8, 4],\n",
       "       [2, 8, 7, 4, 1, 9, 6, 3, 5],\n",
       "       [3, 4, 5, 2, 8, 6, 1, 7, 9]])"
      ]
     },
     "execution_count": 46,
     "metadata": {},
     "output_type": "execute_result"
    }
   ],
   "source": [
    "m = get_sudoku_matrix('data/sudoku_solved.txt')\n",
    "m"
   ]
  },
  {
   "cell_type": "code",
   "execution_count": 47,
   "metadata": {},
   "outputs": [
    {
     "name": "stdout",
     "output_type": "stream",
     "text": [
      "0 0\n",
      "[[5 3 4]\n",
      " [6 7 2]\n",
      " [1 9 8]]\n",
      "0 3\n",
      "[[6 7 8]\n",
      " [1 9 5]\n",
      " [3 4 2]]\n",
      "0 6\n",
      "[[9 1 2]\n",
      " [3 4 8]\n",
      " [5 6 7]]\n",
      "3 0\n",
      "[[8 5 9]\n",
      " [4 2 6]\n",
      " [7 1 3]]\n",
      "3 3\n",
      "[[7 6 1]\n",
      " [8 5 3]\n",
      " [9 2 4]]\n",
      "3 6\n",
      "[[4 2 3]\n",
      " [7 9 1]\n",
      " [8 5 6]]\n",
      "6 0\n",
      "[[9 6 1]\n",
      " [2 8 7]\n",
      " [3 4 5]]\n",
      "6 3\n",
      "[[5 3 7]\n",
      " [4 1 9]\n",
      " [2 8 6]]\n",
      "6 6\n",
      "[[2 8 4]\n",
      " [6 3 5]\n",
      " [1 7 9]]\n"
     ]
    },
    {
     "data": {
      "text/plain": [
       "[]"
      ]
     },
     "execution_count": 47,
     "metadata": {},
     "output_type": "execute_result"
    }
   ],
   "source": [
    "check_sudoku(m)"
   ]
  },
  {
   "cell_type": "code",
   "execution_count": null,
   "metadata": {},
   "outputs": [],
   "source": []
  }
 ],
 "metadata": {
  "kernelspec": {
   "display_name": "Python 3",
   "language": "python",
   "name": "python3"
  },
  "language_info": {
   "codemirror_mode": {
    "name": "ipython",
    "version": 3
   },
   "file_extension": ".py",
   "mimetype": "text/x-python",
   "name": "python",
   "nbconvert_exporter": "python",
   "pygments_lexer": "ipython3",
   "version": "3.8.3"
  }
 },
 "nbformat": 4,
 "nbformat_minor": 4
}
