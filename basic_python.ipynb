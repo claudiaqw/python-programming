{
 "cells": [
  {
   "cell_type": "markdown",
   "metadata": {},
   "source": [
    "# Python básico – Ejercicios cortos"
   ]
  },
  {
   "cell_type": "markdown",
   "metadata": {},
   "source": [
    "En línea con los ejercicios de Python básico realizados en clase, se deberá dar solución\n",
    "a los siguientes problemas:\n",
    "\n",
    "\n"
   ]
  },
  {
   "cell_type": "markdown",
   "metadata": {},
   "source": [
    "1. Escribe un programa que solicite al usuario una lista de números positivos y/o\n",
    "negativos y, utilizando una comprensión de lista, genere otra con los números\n",
    "de la lista original que cumplen (A LA VEZ):\n",
    "    * Son positivos.\n",
    "    * Son divisibles entre 7.\n",
    "    * No son múltiplos de 3"
   ]
  },
  {
   "cell_type": "code",
   "execution_count": 1,
   "metadata": {},
   "outputs": [
    {
     "name": "stdout",
     "output_type": "stream",
     "text": [
      "Introduzca una lista de números positivs y/o negativos a s  s\n"
     ]
    },
    {
     "ename": "ValueError",
     "evalue": "invalid literal for int() with base 10: 'a'",
     "output_type": "error",
     "traceback": [
      "\u001b[1;31m---------------------------------------------------------------------------\u001b[0m",
      "\u001b[1;31mValueError\u001b[0m                                Traceback (most recent call last)",
      "\u001b[1;32m<ipython-input-1-ce598a359db1>\u001b[0m in \u001b[0;36m<module>\u001b[1;34m\u001b[0m\n\u001b[0;32m      1\u001b[0m \u001b[0mnumbers\u001b[0m \u001b[1;33m=\u001b[0m \u001b[0minput\u001b[0m\u001b[1;33m(\u001b[0m\u001b[1;34m\"Introduzca una lista de números positivs y/o negativos\"\u001b[0m\u001b[1;33m)\u001b[0m\u001b[1;33m.\u001b[0m\u001b[0msplit\u001b[0m\u001b[1;33m(\u001b[0m\u001b[1;33m)\u001b[0m\u001b[1;33m\u001b[0m\u001b[1;33m\u001b[0m\u001b[0m\n\u001b[1;32m----> 2\u001b[1;33m \u001b[0mnumbers\u001b[0m \u001b[1;33m=\u001b[0m \u001b[1;33m[\u001b[0m\u001b[0mint\u001b[0m\u001b[1;33m(\u001b[0m\u001b[0mn\u001b[0m\u001b[1;33m)\u001b[0m \u001b[1;32mfor\u001b[0m \u001b[0mn\u001b[0m \u001b[1;32min\u001b[0m \u001b[0mnumbers\u001b[0m \u001b[1;32mif\u001b[0m \u001b[0mint\u001b[0m\u001b[1;33m(\u001b[0m\u001b[0mn\u001b[0m\u001b[1;33m)\u001b[0m \u001b[1;33m>\u001b[0m \u001b[1;36m0\u001b[0m \u001b[1;32mand\u001b[0m \u001b[0mint\u001b[0m\u001b[1;33m(\u001b[0m\u001b[0mn\u001b[0m\u001b[1;33m)\u001b[0m \u001b[1;33m%\u001b[0m \u001b[1;36m7\u001b[0m \u001b[1;33m==\u001b[0m \u001b[1;36m0\u001b[0m \u001b[1;32mand\u001b[0m \u001b[0mint\u001b[0m\u001b[1;33m(\u001b[0m\u001b[0mn\u001b[0m\u001b[1;33m)\u001b[0m \u001b[1;33m%\u001b[0m \u001b[1;36m3\u001b[0m \u001b[1;33m!=\u001b[0m \u001b[1;36m0\u001b[0m\u001b[1;33m]\u001b[0m\u001b[1;33m\u001b[0m\u001b[1;33m\u001b[0m\u001b[0m\n\u001b[0m\u001b[0;32m      3\u001b[0m \u001b[0mnumbers\u001b[0m\u001b[1;33m\u001b[0m\u001b[1;33m\u001b[0m\u001b[0m\n",
      "\u001b[1;32m<ipython-input-1-ce598a359db1>\u001b[0m in \u001b[0;36m<listcomp>\u001b[1;34m(.0)\u001b[0m\n\u001b[0;32m      1\u001b[0m \u001b[0mnumbers\u001b[0m \u001b[1;33m=\u001b[0m \u001b[0minput\u001b[0m\u001b[1;33m(\u001b[0m\u001b[1;34m\"Introduzca una lista de números positivs y/o negativos\"\u001b[0m\u001b[1;33m)\u001b[0m\u001b[1;33m.\u001b[0m\u001b[0msplit\u001b[0m\u001b[1;33m(\u001b[0m\u001b[1;33m)\u001b[0m\u001b[1;33m\u001b[0m\u001b[1;33m\u001b[0m\u001b[0m\n\u001b[1;32m----> 2\u001b[1;33m \u001b[0mnumbers\u001b[0m \u001b[1;33m=\u001b[0m \u001b[1;33m[\u001b[0m\u001b[0mint\u001b[0m\u001b[1;33m(\u001b[0m\u001b[0mn\u001b[0m\u001b[1;33m)\u001b[0m \u001b[1;32mfor\u001b[0m \u001b[0mn\u001b[0m \u001b[1;32min\u001b[0m \u001b[0mnumbers\u001b[0m \u001b[1;32mif\u001b[0m \u001b[0mint\u001b[0m\u001b[1;33m(\u001b[0m\u001b[0mn\u001b[0m\u001b[1;33m)\u001b[0m \u001b[1;33m>\u001b[0m \u001b[1;36m0\u001b[0m \u001b[1;32mand\u001b[0m \u001b[0mint\u001b[0m\u001b[1;33m(\u001b[0m\u001b[0mn\u001b[0m\u001b[1;33m)\u001b[0m \u001b[1;33m%\u001b[0m \u001b[1;36m7\u001b[0m \u001b[1;33m==\u001b[0m \u001b[1;36m0\u001b[0m \u001b[1;32mand\u001b[0m \u001b[0mint\u001b[0m\u001b[1;33m(\u001b[0m\u001b[0mn\u001b[0m\u001b[1;33m)\u001b[0m \u001b[1;33m%\u001b[0m \u001b[1;36m3\u001b[0m \u001b[1;33m!=\u001b[0m \u001b[1;36m0\u001b[0m\u001b[1;33m]\u001b[0m\u001b[1;33m\u001b[0m\u001b[1;33m\u001b[0m\u001b[0m\n\u001b[0m\u001b[0;32m      3\u001b[0m \u001b[0mnumbers\u001b[0m\u001b[1;33m\u001b[0m\u001b[1;33m\u001b[0m\u001b[0m\n",
      "\u001b[1;31mValueError\u001b[0m: invalid literal for int() with base 10: 'a'"
     ]
    }
   ],
   "source": [
    "numbers = input(\"Introduzca una lista de números positivs y/o negativos\").split()\n",
    "numbers = [int(n) for n in numbers if int(n) > 0 and int(n) % 7 == 0 and int(n) % 3 != 0]\n",
    "numbers"
   ]
  },
  {
   "cell_type": "markdown",
   "metadata": {},
   "source": [
    "2. Escribe una función llamada “comprimir” que reciba como parámetro una lista\n",
    "de elementos y devuelva como salida una lista de tuplas de la forma (elemento,\n",
    "número de repeticiones consecutivas). Por ejemplo: \n",
    "\n",
    "        comprimir([1, 1, 1, 2, 2, 3, 4, 4, 1, 1, 1]) = [(1,3), (2, 2), (3, 1), (4, 2), (1, 3)]\n",
    "        \n",
    "**IMPORTANTE:**  La lista no tiene por qué contener sólo números.\n",
    "\n",
    "    \n",
    "\n"
   ]
  },
  {
   "cell_type": "code",
   "execution_count": 2,
   "metadata": {},
   "outputs": [],
   "source": [
    "def comprimir(l):\n",
    "    current_val, current_count = None, 0\n",
    "    result = []\n",
    "    \n",
    "    for item in l:\n",
    "        if item == current_val:\n",
    "            current_count += 1\n",
    "        else:\n",
    "            if(current_val is not None):\n",
    "                result.append((current_val, current_count))\n",
    "            current_val, current_count = item, 1\n",
    "    result.append((current_val, current_count))\n",
    "    return result"
   ]
  },
  {
   "cell_type": "code",
   "execution_count": 3,
   "metadata": {},
   "outputs": [
    {
     "data": {
      "text/plain": [
       "[(1, 3), (2, 2), (3, 1), (4, 2), (1, 3)]"
      ]
     },
     "execution_count": 3,
     "metadata": {},
     "output_type": "execute_result"
    }
   ],
   "source": [
    "comprimir([1, 1, 1, 2, 2, 3, 4, 4, 1, 1, 1])"
   ]
  },
  {
   "cell_type": "markdown",
   "metadata": {},
   "source": [
    "3. Crea una función llamada *dame_personas* que reciba como parámetros una cadena de caracteres con el nombre de una ciudad y un diccionario de la forma \n",
    "        {<persona1>: <ciudad1>, <persona2>:<ciudad2>, …} \n",
    "y devuelva una lista de personas que pertenecen a esa ciudad ordenado alfabéticamente. Por ejemplo:\n",
    "        dame_personas(‘Alicante’, {‘Pedro’: ‘Alicante’, ‘Juan’: ‘Alicante’}) = [‘Juan’, ‘Pedro]"
   ]
  },
  {
   "cell_type": "code",
   "execution_count": 4,
   "metadata": {},
   "outputs": [],
   "source": [
    "def dame_personas(city, person_city):\n",
    "    r = [p for p,c in person_city.items() if c == city]\n",
    "    r.sort()\n",
    "    return r"
   ]
  },
  {
   "cell_type": "code",
   "execution_count": 5,
   "metadata": {},
   "outputs": [
    {
     "data": {
      "text/plain": [
       "['Juan', 'Pedro']"
      ]
     },
     "execution_count": 5,
     "metadata": {},
     "output_type": "execute_result"
    }
   ],
   "source": [
    "a = dame_personas('Alicante', {'Pedro': 'Alicante', 'Juan': 'Alicante'})\n",
    "a"
   ]
  },
  {
   "cell_type": "markdown",
   "metadata": {},
   "source": [
    "4. Escribe una función *dame_palabras_veces* que reciba la ruta de un fichero de texto y un número entero y devuelva el listado de palabras del fichero cuya frecuencia en el mismo es igual al número entero dado. Asume que las palabras del fichero siempre están separadas por espacios y haz que se ignore la diferencia entre mayúsculas y minúsculas. Por ejemplo:\n",
    "\n",
    "        Fichero <dummy.txt>\n",
    "        Esto es una prueba Prueba para validar validar, que funciona funciona.\n",
    "\n",
    "        dame_palabra_veces(‘dummy.txt’, 2) = [‘prueba’, ‘validar’, ‘funciona’]\n",
    "        \n",
    "**IMPORTANTE:** Se debe incluir control de errores suficiente para chequear que el fichero indicado existe."
   ]
  },
  {
   "cell_type": "code",
   "execution_count": 6,
   "metadata": {},
   "outputs": [],
   "source": [
    "def dame_palabras_veces(filepath, n):\n",
    "    file = open(filepath, \"r\")\n",
    "    content = file.read()\n",
    "    content = remove_punctuation(content).split()\n",
    "    \n",
    "    counter = {}\n",
    "    for w in content:\n",
    "        w = w.lower()\n",
    "        if(w in counter):\n",
    "            counter[w] += 1\n",
    "        else:\n",
    "            counter[w] = 1\n",
    "    return [w for w,c in counter.items() if c == n]    \n",
    "\n",
    "def remove_punctuation(text):\n",
    "    import string\n",
    "    table_ = str.maketrans('', '', string.punctuation)\n",
    "    return text.translate(table_)"
   ]
  },
  {
   "cell_type": "code",
   "execution_count": null,
   "metadata": {},
   "outputs": [],
   "source": [
    "dame_palabras_veces('data/dummy.txt', 2)"
   ]
  }
 ],
 "metadata": {
  "kernelspec": {
   "display_name": "Python 3",
   "language": "python",
   "name": "python3"
  },
  "language_info": {
   "codemirror_mode": {
    "name": "ipython",
    "version": 3
   },
   "file_extension": ".py",
   "mimetype": "text/x-python",
   "name": "python",
   "nbconvert_exporter": "python",
   "pygments_lexer": "ipython3",
   "version": "3.8.3"
  }
 },
 "nbformat": 4,
 "nbformat_minor": 4
}
