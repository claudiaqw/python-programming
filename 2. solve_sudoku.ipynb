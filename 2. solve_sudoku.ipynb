{
 "cells": [
  {
   "cell_type": "markdown",
   "metadata": {},
   "source": [
    "# NumPy – Resolver Sudokus"
   ]
  },
  {
   "cell_type": "markdown",
   "metadata": {},
   "source": [
    "Escribe una función que reciba como parámetro el nombre de un fichero que contendrá un Sudoku completo (en forma de matriz), y devuelva si está bien solucionado o no. \n",
    "\n",
    "A lo largo de la función, deberás ir comprobando los distintos requisitos que debe cumplir la solución de un Sudoku, pero además, también debes hacer comprobaciones más básicas, como que los números de cada celda están en el rango y tipo correcto o que la dimensión de la matriz es la adecuada para un Sudoku. La función debe devolver un mensaje diciendo que la solución es correcta o, en caso contrario, el listado completo de motivos por el que la solución es incorrecta.\n",
    "\n",
    "Puedes visitar esta página para repasar las reglas del Sudoku: http://www.sudokumania.com.ar/metodos/reglas-del-sudoku\n"
   ]
  },
  {
   "cell_type": "markdown",
   "metadata": {},
   "source": [
    "Comprobar que:\n",
    "\n",
    "1. en las 9 regiones cuadradas no puede haber números repetidos\n",
    "2. en una misma fila no puede haber números repetidos.\n",
    "3. en una misma columna no puede haber números repetidos."
   ]
  },
  {
   "cell_type": "markdown",
   "metadata": {},
   "source": [
    "### Solución"
   ]
  },
  {
   "cell_type": "markdown",
   "metadata": {},
   "source": [
    "La solución consta de 3 funciones. La función **write_sudoku_matrix** se encarga de escribir una matriz en un fichero de texto y solo se se utiliza en la fase de prueba del algoritmo. La función principal **check_sudoku** está dividida en cuatro regiones.\n",
    "\n",
    "1. **Región 1 *file_reader***: Se invoca a la función **get_sudoku_matrix** que es la encargada de leer el fichero recibido como parámetro que contiene el sudoku a comprobar. Como resultado, almacena en la variable *matrix* el sudoku en forma de matriz de NumPy.\n",
    "\n",
    "Para comprobar la correctitud del sudoku se crea una lista auxiliar *a* que contiene los números ordenados. En el caso de un sudoku común serían los números del 1 al 9, pero el algoritmo está pensado para funcionar con cualquier sudoku cuya dimensión sea un cuadrado perfecto. \n",
    "\n",
    "2. **Región 2: row checher:** Se encarga de comprobar que todas las filas están correctas.\n",
    "3. **Región 3: column checker:** Se encarga de comprobar que todas las columnas están correctas.\n",
    "4. **Región 4: region checker:** Se encarga de comprobar que las regiones están correctas.\n",
    "\n",
    "En cada caso se obtiene la lista de números que contiene la fila, la columna o la región que está siendo analizada, se ordena y se compara con la lista modelo. En la lista *result* se van acumulando los mensajes de error en caso de que el sudoku esté incorrecto.\n",
    "\n"
   ]
  },
  {
   "cell_type": "code",
   "execution_count": 8,
   "metadata": {},
   "outputs": [],
   "source": [
    "import numpy as np"
   ]
  },
  {
   "cell_type": "code",
   "execution_count": 9,
   "metadata": {},
   "outputs": [],
   "source": [
    "def get_sudoku_matrix(filename):\n",
    "    return np.loadtxt(filename, dtype=int, delimiter=',')"
   ]
  },
  {
   "cell_type": "code",
   "execution_count": 10,
   "metadata": {},
   "outputs": [],
   "source": [
    "def write_sudoku_matrix(filename, matrix):\n",
    "    np.savetxt(filename, matrix, delimiter=',', fmt='%d')"
   ]
  },
  {
   "cell_type": "code",
   "execution_count": 11,
   "metadata": {},
   "outputs": [],
   "source": [
    "def check_sudoku(filename):\n",
    "    #region 1: file reader\n",
    "    matrix = get_sudoku_matrix(filename)\n",
    "    \n",
    "    n = matrix.shape[0]\n",
    "    step, a = int(np.sqrt(n)), np.array([i+1 for i in range(n)])\n",
    "    result = []\n",
    "    \n",
    "    # region 2: row checher: esta sección se encarga de comprobar que todas las filas están correctas\n",
    "    for i in range(n):\n",
    "        if not np.alltrue(np.sort(matrix[i,:]) == a):\n",
    "            result.append('La condición no se cumple en la fila {}'.format(i))\n",
    "    \n",
    "    # region 3: column checker: esta sección se encarga de comprobar que todas las columnas están correctas\n",
    "    for i in range(n):\n",
    "        if not np.alltrue(np.sort(matrix[:,i]) == a):\n",
    "            result.append('La condición no se cumple en la columna {}'.format(i))\n",
    "    \n",
    "    #region 2: region checker: esta sección se encarga de comprobar que las regiones están correctas\n",
    "    for i in range(0, n, step):\n",
    "        for j in range(0, n, step): \n",
    "            region = matrix[i:i+step, j:j+step]\n",
    "            flat_list = [item for sublist in region for item in sublist]\n",
    "            if not np.alltrue(np.sort(flat_list) == a):\n",
    "                result.append('La condición no se cumple en la región filas {}-{}, columnas {}-{}'.format(i, i+step, j, j+step))\n",
    "    return result if len(result) > 0 else \"La solución es correcta\""
   ]
  },
  {
   "cell_type": "code",
   "execution_count": 12,
   "metadata": {},
   "outputs": [
    {
     "data": {
      "text/plain": [
       "'La solución es correcta'"
      ]
     },
     "execution_count": 12,
     "metadata": {},
     "output_type": "execute_result"
    }
   ],
   "source": [
    "m1 = get_sudoku_matrix('data/sudoku_1.txt')\n",
    "check_sudoku('data/sudoku_1.txt')"
   ]
  },
  {
   "cell_type": "code",
   "execution_count": 13,
   "metadata": {},
   "outputs": [],
   "source": [
    "m2 = np.array([[4, 3, 5, 2, 6, 9, 7, 8, 1],\n",
    "      [6, 8, 2, 5, 7, 1, 4, 9, 3],\n",
    "      [1, 9, 7, 8, 3, 4, 5, 6, 2],\n",
    "      [8, 2, 6, 1, 9, 5, 3, 4, 7],\n",
    "      [3, 7, 4, 6, 8, 2, 9, 1, 5],\n",
    "      [9, 5, 1, 7, 4, 3, 6, 2, 8],\n",
    "      [5, 1, 9, 3, 2, 6, 8, 7, 4],\n",
    "      [2, 4, 8, 9, 5, 7, 1, 3, 6],\n",
    "      [7, 6, 3, 4, 1, 8, 2, 5, 9]])"
   ]
  },
  {
   "cell_type": "code",
   "execution_count": 14,
   "metadata": {},
   "outputs": [
    {
     "data": {
      "text/plain": [
       "'La solución es correcta'"
      ]
     },
     "execution_count": 14,
     "metadata": {},
     "output_type": "execute_result"
    }
   ],
   "source": [
    "write_sudoku_matrix('data/sudoku_2.txt', m2)\n",
    "check_sudoku('data/sudoku_2.txt')"
   ]
  }
 ],
 "metadata": {
  "kernelspec": {
   "display_name": "Python 3",
   "language": "python",
   "name": "python3"
  },
  "language_info": {
   "codemirror_mode": {
    "name": "ipython",
    "version": 3
   },
   "file_extension": ".py",
   "mimetype": "text/x-python",
   "name": "python",
   "nbconvert_exporter": "python",
   "pygments_lexer": "ipython3",
   "version": "3.8.3"
  }
 },
 "nbformat": 4,
 "nbformat_minor": 4
}
